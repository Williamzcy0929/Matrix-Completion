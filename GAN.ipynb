{
 "cells": [
  {
   "cell_type": "markdown",
   "metadata": {},
   "source": [
    "### Initialization"
   ]
  },
  {
   "cell_type": "code",
   "execution_count": 2,
   "metadata": {},
   "outputs": [],
   "source": [
    "import pandas as pd\n",
    "import numpy as np\n",
    "import torch\n",
    "import torch.nn as nn\n",
    "import torch.optim as optim\n",
    "from sklearn.model_selection import KFold\n",
    "from torch.utils.tensorboard import SummaryWriter"
   ]
  },
  {
   "cell_type": "code",
   "execution_count": null,
   "metadata": {},
   "outputs": [],
   "source": [
    "print(torch.__version__)\n",
    "\n",
    "device = (\n",
    "    \"cuda\" if torch.cuda.is_available() else\n",
    "    \"mps\" if torch.backends.mps.is_available() else\n",
    "    \"cpu\"\n",
    ")\n",
    "print(f\"Using {device} device\")"
   ]
  },
  {
   "cell_type": "markdown",
   "metadata": {},
   "source": [
    "### Data Loading and Preprocessing"
   ]
  },
  {
   "cell_type": "code",
   "execution_count": null,
   "metadata": {},
   "outputs": [],
   "source": [
    "file_path = \"train.csv\"\n",
    "data_df = pd.read_csv(file_path)\n",
    "print(data_df.isnull().sum())\n",
    "\n",
    "new_data = pd.read_csv(file_path)\n",
    "print(new_data.isnull().sum().sum() / new_data.size)\n",
    "\n",
    "data_np = data_df.to_numpy()\n",
    "mask = ~np.isnan(data_np)\n",
    "data_np[np.isnan(data_np)] = 0\n",
    "data = torch.tensor(data_np, dtype=torch.float32).to(device)\n",
    "mask = torch.tensor(mask, dtype=torch.bool).to(device)"
   ]
  },
  {
   "cell_type": "markdown",
   "metadata": {},
   "source": [
    "### Generator"
   ]
  },
  {
   "cell_type": "code",
   "execution_count": 8,
   "metadata": {},
   "outputs": [],
   "source": [
    "class Generator(nn.Module):\n",
    "    def __init__(self, input_dim, hidden_dim):\n",
    "        super(Generator, self).__init__()\n",
    "        self.model = nn.Sequential(\n",
    "            nn.Linear(input_dim, hidden_dim),\n",
    "            nn.ReLU(),\n",
    "            nn.Linear(hidden_dim, input_dim)\n",
    "        )\n",
    "    \n",
    "    def forward(self, x):\n",
    "        return self.model(x)"
   ]
  },
  {
   "cell_type": "markdown",
   "metadata": {},
   "source": [
    "### Discriminator"
   ]
  },
  {
   "cell_type": "code",
   "execution_count": 9,
   "metadata": {},
   "outputs": [],
   "source": [
    "class Discriminator(nn.Module):\n",
    "    def __init__(self, input_dim, hidden_dim):\n",
    "        super(Discriminator, self).__init__()\n",
    "        self.model = nn.Sequential(\n",
    "            nn.Linear(input_dim, hidden_dim),\n",
    "            nn.LeakyReLU(0.2),\n",
    "            nn.Linear(hidden_dim, 1)\n",
    "        )\n",
    "    \n",
    "    def forward(self, x):\n",
    "        return self.model(x)"
   ]
  },
  {
   "cell_type": "markdown",
   "metadata": {},
   "source": [
    "### Hyperparameters"
   ]
  },
  {
   "cell_type": "code",
   "execution_count": null,
   "metadata": {},
   "outputs": [],
   "source": [
    "param_grid = {\n",
    "    'hidden_dim': [16, 32, 64, 128, 1024],\n",
    "    'lr': [0.1, 0.05, 0.01, 0.0005, 0.0002, 0.0001, 1e-5],\n",
    "    'batch_size': [16, 32, 64, 128, 256],\n",
    "    'epochs': [10, 20, 50, 100, 200, 500, 1000, 10000]\n",
    "}"
   ]
  },
  {
   "cell_type": "markdown",
   "metadata": {},
   "source": [
    "### Training"
   ]
  },
  {
   "cell_type": "code",
   "execution_count": null,
   "metadata": {},
   "outputs": [],
   "source": [
    "kf = KFold(n_splits=5, shuffle=True, random_state=0)\n",
    "\n",
    "writer = SummaryWriter(\"runs/GAN_experiment\")\n",
    "\n",
    "best_params = None\n",
    "best_score = float('inf')\n",
    "input_dim = data.size(1)\n",
    "\n",
    "for hidden_dim in param_grid['hidden_dim']:\n",
    "    for lr in param_grid['lr']:\n",
    "        for batch_size in param_grid['batch_size']:\n",
    "            for epochs in param_grid['epochs']:\n",
    "                fold_scores = []\n",
    "\n",
    "                for fold, (train_index, val_index) in enumerate(kf.split(data)):\n",
    "                    train_data, val_data = data[train_index], data[val_index]\n",
    "                    train_mask, val_mask = mask[train_index], mask[val_index]\n",
    "\n",
    "                    generator = Generator(input_dim, hidden_dim).to(device)\n",
    "                    discriminator = Discriminator(input_dim, hidden_dim).to(device)\n",
    "                    g_optimizer = optim.Adam(generator.parameters(), lr=lr)\n",
    "                    d_optimizer = optim.Adam(discriminator.parameters(), lr=lr)\n",
    "                    adversarial_loss = nn.BCEWithLogitsLoss()\n",
    "\n",
    "                    for epoch in range(epochs):\n",
    "                        for i in range(0, train_data.size(0), batch_size):\n",
    "                            real_data = train_data[i:i+batch_size]\n",
    "                            real_mask = train_mask[i:i+batch_size]\n",
    "                            generator_input = real_data.clone()\n",
    "                            generator_input[~real_mask] = 0\n",
    "\n",
    "                            d_optimizer.zero_grad()\n",
    "                            fake_data = generator(generator_input)\n",
    "                            real_loss = -torch.mean(discriminator(real_data))\n",
    "                            fake_loss = torch.mean(discriminator(fake_data.detach()))\n",
    "                            d_loss = real_loss + fake_loss\n",
    "                            d_loss.backward()\n",
    "                            d_optimizer.step()\n",
    "\n",
    "                            g_optimizer.zero_grad()\n",
    "                            g_loss = -torch.mean(discriminator(fake_data))\n",
    "                            g_loss.backward()\n",
    "                            g_optimizer.step()\n",
    "\n",
    "                        writer.add_scalar(f'Fold_{fold}/Generator_Loss', g_loss.item(), epoch)\n",
    "                        writer.add_scalar(f'Fold_{fold}/Discriminator_Loss', d_loss.item(), epoch)\n",
    "\n",
    "                    with torch.no_grad():\n",
    "                        val_generated = generator(val_data.clone())\n",
    "                        val_completed = val_data.clone()\n",
    "                        val_completed[~val_mask] = val_generated[~val_mask]\n",
    "                        val_loss = ((val_completed - val_data) ** 2).mean().item()\n",
    "                        fold_scores.append(val_loss)\n",
    "\n",
    "                avg_score = np.mean(fold_scores)\n",
    "                print(f\"Params: hidden_dim={hidden_dim}, lr={lr}, batch_size={batch_size}, epochs={epochs} | Avg Val Loss: {avg_score:.4f}\")\n",
    "\n",
    "                if avg_score < best_score:\n",
    "                    best_score = avg_score\n",
    "                    best_params = {\n",
    "                        'hidden_dim': hidden_dim,\n",
    "                        'lr': lr,\n",
    "                        'batch_size': batch_size,\n",
    "                        'epochs': epochs\n",
    "                    }\n",
    "                    torch.save(generator.state_dict(), \"generator_best.pth\")\n",
    "                    print(f\"Saved the best generator model with loss {best_score:.4f}\")\n",
    "\n",
    "print(\"Best Hyperparameters:：\", best_params)\n",
    "print(\"Best Test Loss：\", best_score)\n",
    "\n",
    "writer.close()"
   ]
  },
  {
   "cell_type": "markdown",
   "metadata": {},
   "source": [
    "### Test"
   ]
  },
  {
   "cell_type": "code",
   "execution_count": null,
   "metadata": {},
   "outputs": [],
   "source": [
    "test_file_path = \"test.csv\"\n",
    "test_df = pd.read_csv(test_file_path)\n",
    "\n",
    "test_np = test_df.to_numpy()\n",
    "test_mask = ~np.isnan(test_np)\n",
    "test_np[np.isnan(test_np)] = 0\n",
    "test_data = torch.tensor(test_np, dtype=torch.float32).to(device)\n",
    "test_mask = torch.tensor(test_mask, dtype=torch.bool).to(device)\n",
    "\n",
    "class Generator(nn.Module):\n",
    "    def __init__(self, input_dim, hidden_dim):\n",
    "        super(Generator, self).__init__()\n",
    "        self.model = nn.Sequential(\n",
    "            nn.Linear(input_dim, hidden_dim),\n",
    "            nn.ReLU(),\n",
    "            nn.Linear(hidden_dim, input_dim)\n",
    "        )\n",
    "    \n",
    "    def forward(self, x):\n",
    "        return self.model(x)\n",
    "\n",
    "#use the tuned hyperparameters\n",
    "best_params = {\n",
    "    'hidden_dim': hidden_dim,\n",
    "    'lr': lr,\n",
    "    'batch_size': batch_size,\n",
    "    'epochs': epochs\n",
    "}\n",
    "input_dim = test_data.size(1)\n",
    "hidden_dim = best_params['hidden_dim']\n",
    "\n",
    "generator = Generator(input_dim, hidden_dim)\n",
    "\n",
    "model_path = \"generator_best.pth\"\n",
    "generator.load_state_dict(torch.load(model_path))\n",
    "generator.eval()\n",
    "\n",
    "with torch.no_grad():\n",
    "    test_input = test_data.clone()\n",
    "    test_input[~test_mask] = 0\n",
    "    test_generated = generator(test_input)\n",
    "\n",
    "    test_completed = test_data.clone()\n",
    "    test_completed[~test_mask] = test_generated[~test_mask]\n",
    "\n",
    "completed_df = pd.DataFrame(test_completed.numpy(), columns=test_df.columns)\n",
    "output_file_path = \"completed_test_data.csv\"\n",
    "completed_df.to_csv(output_file_path, index=False)\n",
    "\n",
    "print(f\"Completed test data saved to {output_file_path}\")"
   ]
  }
 ],
 "metadata": {
  "kernelspec": {
   "display_name": "Python 3",
   "language": "python",
   "name": "python3"
  },
  "language_info": {
   "codemirror_mode": {
    "name": "ipython",
    "version": 3
   },
   "file_extension": ".py",
   "mimetype": "text/x-python",
   "name": "python",
   "nbconvert_exporter": "python",
   "pygments_lexer": "ipython3",
   "version": "3.12.3"
  }
 },
 "nbformat": 4,
 "nbformat_minor": 2
}
